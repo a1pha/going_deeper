{
 "cells": [
  {
   "cell_type": "code",
   "execution_count": 6,
   "metadata": {},
   "outputs": [],
   "source": [
    "class_0_filenames = []\n",
    "class_1_filenames = []"
   ]
  },
  {
   "cell_type": "code",
   "execution_count": null,
   "metadata": {},
   "outputs": [],
   "source": [
    "import os\n",
    "co1 = 0\n",
    "co2 = 0\n",
    "for dirname in os.listdir(\"resized_data\"):\n",
    "    if os.path.isdir(dirname):\n",
    "        for i, filename in enumerate(os.listdir(dirname)):\n",
    "            if str(filename).startswith( 'a' ):\n",
    "                os.rename(dirname + \"/\" + filename, dirname + \"/\" + \"apple\" + str(co1) + \".png\")\n",
    "                co1+=1\n",
    "            else:\n",
    "                os.rename(dirname + \"/\" + filename, dirname + \"/\" + \"banana\" + str(co2) + \".png\")\n",
    "                co2+=1"
   ]
  },
  {
   "cell_type": "code",
   "execution_count": null,
   "metadata": {},
   "outputs": [],
   "source": [
    "%matplotlib auto"
   ]
  },
  {
   "cell_type": "code",
   "execution_count": 7,
   "metadata": {},
   "outputs": [],
   "source": [
    "import os\n",
    "dirListing = os.listdir(\"resized_data\")\n",
    "for filename in dirListing:\n",
    "    if str(filename).startswith( \"a\" ):\n",
    "        class_0_filenames.append(str(filename))\n",
    "    else:\n",
    "        class_1_filenames.append(str(filename))"
   ]
  },
  {
   "cell_type": "code",
   "execution_count": 8,
   "metadata": {},
   "outputs": [
    {
     "data": {
      "text/plain": [
       "200"
      ]
     },
     "execution_count": 8,
     "metadata": {},
     "output_type": "execute_result"
    }
   ],
   "source": [
    "len(class_0_filenames)"
   ]
  },
  {
   "cell_type": "code",
   "execution_count": 10,
   "metadata": {},
   "outputs": [
    {
     "name": "stdout",
     "output_type": "stream",
     "text": [
      "PNG\n",
      "L\n",
      "(50, 50)\n"
     ]
    }
   ],
   "source": [
    "# load the image\n",
    "from PIL import Image\n",
    "image = Image.open('resized_data/' + class_0_filenames[49])\n",
    "# summarize some details about the image\n",
    "print(image.format)\n",
    "print(image.mode)\n",
    "print(image.size)\n",
    "# show the image"
   ]
  },
  {
   "cell_type": "code",
   "execution_count": 5,
   "metadata": {},
   "outputs": [],
   "source": [
    "#!/usr/bin/python\n",
    "from PIL import Image\n",
    "import os, sys\n",
    "\n",
    "path = \"data/\"\n",
    "dirs = os.listdir( path )\n",
    "\n",
    "def resize():\n",
    "    for item in dirs:\n",
    "        if True:\n",
    "            im = Image.open(path+str(item))\n",
    "            imResize = im.resize((50,50), Image.ANTIALIAS)\n",
    "            imResize.save(\"resized_data/\" + str(item) + ' resized.png', 'PNG', quality=90)\n",
    "\n",
    "resize()"
   ]
  },
  {
   "cell_type": "code",
   "execution_count": null,
   "metadata": {},
   "outputs": [],
   "source": []
  }
 ],
 "metadata": {
  "kernelspec": {
   "display_name": "Python 3",
   "language": "python",
   "name": "python3"
  },
  "language_info": {
   "codemirror_mode": {
    "name": "ipython",
    "version": 3
   },
   "file_extension": ".py",
   "mimetype": "text/x-python",
   "name": "python",
   "nbconvert_exporter": "python",
   "pygments_lexer": "ipython3",
   "version": "3.7.3"
  }
 },
 "nbformat": 4,
 "nbformat_minor": 2
}
