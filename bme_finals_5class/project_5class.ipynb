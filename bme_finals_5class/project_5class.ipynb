{
 "cells": [
  {
   "cell_type": "code",
   "execution_count": 48,
   "metadata": {},
   "outputs": [],
   "source": [
    "import cv2\n",
    "from numpy import array\n",
    "\n",
    "def read_and_process_images(list_of_images):\n",
    "    X = []\n",
    "    y = []\n",
    "    \n",
    "    for image in list_of_images:\n",
    "        X.append(cv2.resize(cv2.imread(\"class5_data/\" + str(image), cv2.IMREAD_GRAYSCALE), (50,50), interpolation = cv2.INTER_CUBIC))\n",
    "        \n",
    "        if 'apple' in str(image):\n",
    "            y.append(0)\n",
    "        \n",
    "        if 'banana' in str(image):\n",
    "            y.append(1)\n",
    "        \n",
    "        if 'water' in str(image):\n",
    "            y.append(2)\n",
    "        \n",
    "        if 'potato' in str(image):\n",
    "            y.append(3)\n",
    "        \n",
    "        if 'instant' in str(image):\n",
    "            y.append(4)\n",
    "    return array(X),array(y)"
   ]
  },
  {
   "cell_type": "code",
   "execution_count": 49,
   "metadata": {},
   "outputs": [],
   "source": [
    "file_names=[]"
   ]
  },
  {
   "cell_type": "code",
   "execution_count": 50,
   "metadata": {},
   "outputs": [],
   "source": [
    "import os\n",
    "dirListing = os.listdir(\"class5_data\")\n",
    "for filename in dirListing:\n",
    "    file_names.append(str(filename))"
   ]
  },
  {
   "cell_type": "code",
   "execution_count": 51,
   "metadata": {},
   "outputs": [
    {
     "data": {
      "text/plain": [
       "1419"
      ]
     },
     "execution_count": 51,
     "metadata": {},
     "output_type": "execute_result"
    }
   ],
   "source": [
    "len(file_names)"
   ]
  },
  {
   "cell_type": "code",
   "execution_count": 52,
   "metadata": {},
   "outputs": [],
   "source": [
    "X, y = read_and_process_images(file_names)"
   ]
  },
  {
   "cell_type": "code",
   "execution_count": 53,
   "metadata": {},
   "outputs": [
    {
     "data": {
      "text/plain": [
       "(1419,)"
      ]
     },
     "execution_count": 53,
     "metadata": {},
     "output_type": "execute_result"
    }
   ],
   "source": [
    "y.shape"
   ]
  },
  {
   "cell_type": "code",
   "execution_count": 54,
   "metadata": {},
   "outputs": [
    {
     "name": "stdout",
     "output_type": "stream",
     "text": [
      "Training data shape (1200, 50, 50, 1)\n",
      "_________________________________________________________________\n",
      "Layer (type)                 Output Shape              Param #   \n",
      "=================================================================\n",
      "conv2d_36 (Conv2D)           (None, 50, 50, 50)        1300      \n",
      "_________________________________________________________________\n",
      "max_pooling2d_24 (MaxPooling (None, 25, 25, 50)        0         \n",
      "_________________________________________________________________\n",
      "conv2d_37 (Conv2D)           (None, 25, 25, 100)       125100    \n",
      "_________________________________________________________________\n",
      "max_pooling2d_25 (MaxPooling (None, 13, 13, 100)       0         \n",
      "_________________________________________________________________\n",
      "conv2d_38 (Conv2D)           (None, 13, 13, 200)       500200    \n",
      "_________________________________________________________________\n",
      "max_pooling2d_26 (MaxPooling (None, 7, 7, 200)         0         \n",
      "_________________________________________________________________\n",
      "conv2d_39 (Conv2D)           (None, 7, 7, 200)         1000200   \n",
      "_________________________________________________________________\n",
      "conv2d_40 (Conv2D)           (None, 7, 7, 200)         1000200   \n",
      "_________________________________________________________________\n",
      "max_pooling2d_27 (MaxPooling (None, 4, 4, 200)         0         \n",
      "_________________________________________________________________\n",
      "conv2d_41 (Conv2D)           (None, 4, 4, 400)         2000400   \n",
      "_________________________________________________________________\n",
      "conv2d_42 (Conv2D)           (None, 4, 4, 400)         4000400   \n",
      "_________________________________________________________________\n",
      "max_pooling2d_28 (MaxPooling (None, 2, 2, 400)         0         \n",
      "_________________________________________________________________\n",
      "conv2d_43 (Conv2D)           (None, 2, 2, 200)         2000200   \n",
      "_________________________________________________________________\n",
      "conv2d_44 (Conv2D)           (None, 2, 2, 200)         1000200   \n",
      "_________________________________________________________________\n",
      "max_pooling2d_29 (MaxPooling (None, 1, 1, 200)         0         \n",
      "_________________________________________________________________\n",
      "flatten_4 (Flatten)          (None, 200)               0         \n",
      "_________________________________________________________________\n",
      "dense_12 (Dense)             (None, 400)               80400     \n",
      "_________________________________________________________________\n",
      "dense_13 (Dense)             (None, 400)               160400    \n",
      "_________________________________________________________________\n",
      "dense_14 (Dense)             (None, 5)                 2005      \n",
      "=================================================================\n",
      "Total params: 11,871,005\n",
      "Trainable params: 11,871,005\n",
      "Non-trainable params: 0\n",
      "_________________________________________________________________\n"
     ]
    },
    {
     "data": {
      "image/png": "[encoded data removed]",
      "text/plain": [
       "<Figure size 432x288 with 2 Axes>"
      ]
     },
     "metadata": {
      "needs_background": "light"
     },
     "output_type": "display_data"
    }
   ],
   "source": [
    "# Download and visualize the data: see all here https://www.tensorflow.org/api_docs/python/tf/keras/datasets\n",
    "import tensorflow as tf\n",
    "\n",
    "start = 0 \n",
    "middle = 1200\n",
    "end = 1419\n",
    "X_train = X[0:middle].reshape(X[0:middle].shape[0], 50, 50,1)\n",
    "y_train = tf.keras.utils.to_categorical(y[0:middle], 5)\n",
    "\n",
    "\n",
    "X_val = X[middle:end].reshape(X[middle:end].shape[0], 50, 50, 1)\n",
    "y_val = tf.keras.utils.to_categorical(y[middle:end], 5)\n",
    "\n",
    "\n",
    "from matplotlib import pyplot as plt\n",
    "%matplotlib inline\n",
    "\n",
    "print('Training data shape', X_train.shape)\n",
    "_, (ax1, ax2) = plt.subplots(1, 2)\n",
    "ax1.imshow(X_train[0].reshape(50,50), cmap=plt.cm.Greys);\n",
    "ax2.imshow(X_train[5].reshape(50,50), cmap=plt.cm.Greys);\n",
    "\n",
    "\n",
    "# Build your DNN, an example model is given for you.\n",
    "model = tf.keras.Sequential([\n",
    "    tf.keras.layers.Conv2D(50, (5,5), padding='same', activation='relu', input_shape=(50, 50,1)),\n",
    "    tf.keras.layers.MaxPool2D(padding='same'),\n",
    "    \n",
    "    tf.keras.layers.Conv2D(100, (5,5), padding='same', activation='relu'),\n",
    "    tf.keras.layers.MaxPool2D(padding='same'),\n",
    "\n",
    "    tf.keras.layers.Conv2D(200, (5,5), padding='same', activation='relu'),\n",
    "    tf.keras.layers.MaxPool2D(padding='same'),\n",
    "    \n",
    "    tf.keras.layers.Conv2D(200, (5,5), padding='same', activation='relu'),\n",
    "    tf.keras.layers.Conv2D(200, (5,5), padding='same', activation='relu'),\n",
    "    tf.keras.layers.MaxPool2D(padding='same'),\n",
    "\n",
    "    tf.keras.layers.Conv2D(400, (5,5), padding='same', activation='relu'),\n",
    "    tf.keras.layers.Conv2D(400, (5,5), padding='same', activation='relu'),\n",
    "    tf.keras.layers.MaxPool2D(padding='same'),\n",
    "\n",
    "    tf.keras.layers.Conv2D(200, (5,5), padding='same', activation='relu'),\n",
    "    tf.keras.layers.Conv2D(200, (5,5), padding='same', activation='relu'),\n",
    "    tf.keras.layers.MaxPool2D(padding='same'),\n",
    "\n",
    "    tf.keras.layers.Flatten(),\n",
    "    tf.keras.layers.Dense(400, activation='relu'),\n",
    "    tf.keras.layers.Dense(400, activation='relu'),\n",
    "    tf.keras.layers.Dense(5, activation='softmax')\n",
    "])\n",
    "\n",
    "model.compile(optimizer=tf.train.AdamOptimizer(0.0001),\n",
    "              loss='categorical_crossentropy',\n",
    "              metrics=['accuracy'])\n",
    "\n",
    "model.summary()"
   ]
  },
  {
   "cell_type": "code",
   "execution_count": 55,
   "metadata": {},
   "outputs": [
    {
     "name": "stdout",
     "output_type": "stream",
     "text": [
      "Train on 1200 samples, validate on 219 samples\n",
      "Epoch 1/10\n",
      "1200/1200 [==============================] - 14s 12ms/sample - loss: 1.0326 - acc: 0.5708 - val_loss: 0.5994 - val_acc: 0.7717\n",
      "Epoch 2/10\n",
      "1200/1200 [==============================] - 14s 11ms/sample - loss: 0.4957 - acc: 0.8092 - val_loss: 0.2850 - val_acc: 0.8904\n",
      "Epoch 3/10\n",
      "1200/1200 [==============================] - 14s 11ms/sample - loss: 0.2719 - acc: 0.9033 - val_loss: 0.3870 - val_acc: 0.8356\n",
      "Epoch 4/10\n",
      "1200/1200 [==============================] - 13s 11ms/sample - loss: 0.1717 - acc: 0.9392 - val_loss: 0.0882 - val_acc: 0.9726\n",
      "Epoch 5/10\n",
      "1200/1200 [==============================] - 14s 11ms/sample - loss: 0.1956 - acc: 0.9408 - val_loss: 0.2471 - val_acc: 0.9406\n",
      "Epoch 6/10\n",
      "1200/1200 [==============================] - 14s 11ms/sample - loss: 0.1024 - acc: 0.9642 - val_loss: 0.0355 - val_acc: 0.9909\n",
      "Epoch 7/10\n",
      "1200/1200 [==============================] - 14s 11ms/sample - loss: 0.0370 - acc: 0.9883 - val_loss: 0.6150 - val_acc: 0.8676\n",
      "Epoch 8/10\n",
      "1200/1200 [==============================] - 13s 11ms/sample - loss: 0.1585 - acc: 0.9550 - val_loss: 0.0758 - val_acc: 0.9726\n",
      "Epoch 9/10\n",
      "1200/1200 [==============================] - 14s 11ms/sample - loss: 0.0165 - acc: 0.9958 - val_loss: 0.0194 - val_acc: 0.9954\n",
      "Epoch 10/10\n",
      "1200/1200 [==============================] - 14s 11ms/sample - loss: 0.0040 - acc: 0.9992 - val_loss: 0.0161 - val_acc: 0.9954\n"
     ]
    }
   ],
   "source": [
    "hist1 = model.fit(X_train, y_train,\n",
    "          batch_size=25,\n",
    "          epochs=10,\n",
    "          verbose=1,\n",
    "          validation_data=(X_val, y_val))"
   ]
  },
  {
   "cell_type": "code",
   "execution_count": 56,
   "metadata": {},
   "outputs": [],
   "source": [
    "predictions = model.predict(X_val.reshape(X_val.shape[0], 50, 50,1))"
   ]
  },
  {
   "cell_type": "code",
   "execution_count": 57,
   "metadata": {},
   "outputs": [],
   "source": [
    "from sklearn.metrics import confusion_matrix\n",
    "matrix = confusion_matrix(y_val.argmax(axis=1), predictions.argmax(axis=1))\n"
   ]
  },
  {
   "cell_type": "code",
   "execution_count": 58,
   "metadata": {},
   "outputs": [
    {
     "data": {
      "text/plain": [
       "array([[29,  0,  0,  0,  0],\n",
       "       [ 0, 23,  0,  0,  0],\n",
       "       [ 0,  0, 61,  0,  0],\n",
       "       [ 0,  0,  0, 39,  1],\n",
       "       [ 0,  0,  0,  0, 66]])"
      ]
     },
     "execution_count": 58,
     "metadata": {},
     "output_type": "execute_result"
    }
   ],
   "source": [
    "matrix"
   ]
  },
  {
   "cell_type": "code",
   "execution_count": null,
   "metadata": {},
   "outputs": [],
   "source": []
  }
 ],
 "metadata": {
  "kernelspec": {
   "display_name": "Python 3",
   "language": "python",
   "name": "python3"
  },
  "language_info": {
   "codemirror_mode": {
    "name": "ipython",
    "version": 3
   },
   "file_extension": ".py",
   "mimetype": "text/x-python",
   "name": "python",
   "nbconvert_exporter": "python",
   "pygments_lexer": "ipython3",
   "version": "3.7.3"
  }
 },
 "nbformat": 4,
 "nbformat_minor": 2
}
