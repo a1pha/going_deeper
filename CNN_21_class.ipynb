{
 "cells": [
  {
   "cell_type": "code",
   "execution_count": 1,
   "metadata": {},
   "outputs": [],
   "source": [
    "import cv2\n",
    "from numpy import array\n",
    "\n",
    "def read_and_process_images(list_of_images):\n",
    "    X = []\n",
    "    y = []\n",
    "    \n",
    "    for image in list_of_images:\n",
    "        X.append(cv2.resize(cv2.imread(\"data21class/\" + str(image), cv2.IMREAD_GRAYSCALE), (50,50), interpolation = cv2.INTER_CUBIC))\n",
    "        \n",
    "        if 'apple' in str(image):\n",
    "            y.append(0)\n",
    "        \n",
    "        if 'ball' in str(image):\n",
    "            y.append(1)\n",
    "    \n",
    "        if 'banana' in str(image):\n",
    "            y.append(2)\n",
    "        \n",
    "        if 'bowl' in str(image):\n",
    "            y.append(3)\n",
    "            \n",
    "        if 'calculator' in str(image):\n",
    "            y.append(4)\n",
    "        \n",
    "        if 'cell' in str(image):\n",
    "            y.append(5)\n",
    "        \n",
    "        if 'flashlight' in str(image):\n",
    "            y.append(6)\n",
    "        \n",
    "        if 'food' in str(image):\n",
    "            y.append(7)\n",
    "        \n",
    "        if 'garlic' in str(image):\n",
    "            y.append(8)\n",
    "            \n",
    "        if 'instant' in str(image):\n",
    "            y.append(9)\n",
    "            \n",
    "        if 'kleenex' in str(image):\n",
    "            y.append(10)\n",
    "            \n",
    "        if 'lemon' in str(image):\n",
    "            y.append(11)\n",
    "    \n",
    "        if 'lime' in str(image):\n",
    "            y.append(12)\n",
    "        \n",
    "        if 'orange' in str(image):\n",
    "            y.append(13)\n",
    "        \n",
    "        if 'plate' in str(image):\n",
    "            y.append(14)\n",
    "        \n",
    "        if 'pliers' in str(image):\n",
    "            y.append(15)\n",
    "        \n",
    "        if 'potato' in str(image):\n",
    "            y.append(16)\n",
    "            \n",
    "        if 'scissors' in str(image):\n",
    "            y.append(17)\n",
    "        \n",
    "        if 'shampoo' in str(image):\n",
    "            y.append(18)\n",
    "        \n",
    "        if 'tomato' in str(image):\n",
    "            y.append(19)\n",
    "        \n",
    "        if 'water' in str(image):\n",
    "            y.append(20)\n",
    "        \n",
    "    return array(X),array(y)"
   ]
  },
  {
   "cell_type": "code",
   "execution_count": 7,
   "metadata": {},
   "outputs": [],
   "source": [
    "file_names=[]\n"
   ]
  },
  {
   "cell_type": "code",
   "execution_count": 8,
   "metadata": {},
   "outputs": [],
   "source": [
    "import os\n",
    "dirListing = os.listdir(\"data21class\")\n",
    "for filename in dirListing:\n",
    "    file_names.append(str(filename))"
   ]
  },
  {
   "cell_type": "code",
   "execution_count": 9,
   "metadata": {},
   "outputs": [
    {
     "data": {
      "text/plain": [
       "5556"
      ]
     },
     "execution_count": 9,
     "metadata": {},
     "output_type": "execute_result"
    }
   ],
   "source": [
    "len(file_names)\n"
   ]
  },
  {
   "cell_type": "code",
   "execution_count": 13,
   "metadata": {},
   "outputs": [],
   "source": [
    "X, y = read_and_process_images(file_names)\n"
   ]
  },
  {
   "cell_type": "code",
   "execution_count": 14,
   "metadata": {},
   "outputs": [
    {
     "data": {
      "text/plain": [
       "(5556,)"
      ]
     },
     "execution_count": 14,
     "metadata": {},
     "output_type": "execute_result"
    }
   ],
   "source": [
    "y.shape\n"
   ]
  },
  {
   "cell_type": "code",
   "execution_count": 15,
   "metadata": {},
   "outputs": [
    {
     "name": "stdout",
     "output_type": "stream",
     "text": [
      "Training data shape (5000, 50, 50, 1)\n",
      "WARNING:tensorflow:From /home/dharun/anaconda/ENTER/envs/torchenv/lib/python3.7/site-packages/tensorflow/python/ops/resource_variable_ops.py:435: colocate_with (from tensorflow.python.framework.ops) is deprecated and will be removed in a future version.\n",
      "Instructions for updating:\n",
      "Colocations handled automatically by placer.\n",
      "_________________________________________________________________\n",
      "Layer (type)                 Output Shape              Param #   \n",
      "=================================================================\n",
      "conv2d (Conv2D)              (None, 50, 50, 50)        1300      \n",
      "_________________________________________________________________\n",
      "max_pooling2d (MaxPooling2D) (None, 25, 25, 50)        0         \n",
      "_________________________________________________________________\n",
      "conv2d_1 (Conv2D)            (None, 25, 25, 100)       125100    \n",
      "_________________________________________________________________\n",
      "max_pooling2d_1 (MaxPooling2 (None, 13, 13, 100)       0         \n",
      "_________________________________________________________________\n",
      "conv2d_2 (Conv2D)            (None, 13, 13, 200)       500200    \n",
      "_________________________________________________________________\n",
      "max_pooling2d_2 (MaxPooling2 (None, 7, 7, 200)         0         \n",
      "_________________________________________________________________\n",
      "conv2d_3 (Conv2D)            (None, 7, 7, 200)         1000200   \n",
      "_________________________________________________________________\n",
      "conv2d_4 (Conv2D)            (None, 7, 7, 200)         1000200   \n",
      "_________________________________________________________________\n",
      "max_pooling2d_3 (MaxPooling2 (None, 4, 4, 200)         0         \n",
      "_________________________________________________________________\n",
      "conv2d_5 (Conv2D)            (None, 4, 4, 400)         2000400   \n",
      "_________________________________________________________________\n",
      "conv2d_6 (Conv2D)            (None, 4, 4, 400)         4000400   \n",
      "_________________________________________________________________\n",
      "max_pooling2d_4 (MaxPooling2 (None, 2, 2, 400)         0         \n",
      "_________________________________________________________________\n",
      "conv2d_7 (Conv2D)            (None, 2, 2, 200)         2000200   \n",
      "_________________________________________________________________\n",
      "conv2d_8 (Conv2D)            (None, 2, 2, 200)         1000200   \n",
      "_________________________________________________________________\n",
      "max_pooling2d_5 (MaxPooling2 (None, 1, 1, 200)         0         \n",
      "_________________________________________________________________\n",
      "flatten (Flatten)            (None, 200)               0         \n",
      "_________________________________________________________________\n",
      "dense (Dense)                (None, 400)               80400     \n",
      "_________________________________________________________________\n",
      "dense_1 (Dense)              (None, 400)               160400    \n",
      "_________________________________________________________________\n",
      "dense_2 (Dense)              (None, 21)                8421      \n",
      "=================================================================\n",
      "Total params: 11,877,421\n",
      "Trainable params: 11,877,421\n",
      "Non-trainable params: 0\n",
      "_________________________________________________________________\n"
     ]
    },
    {
     "data": {
      "image/png": "[encoded data removed]",
      "text/plain": [
       "<Figure size 432x288 with 2 Axes>"
      ]
     },
     "metadata": {
      "needs_background": "light"
     },
     "output_type": "display_data"
    }
   ],
   "source": [
    "# Download and visualize the data: see all here https://www.tensorflow.org/api_docs/python/tf/keras/datasets\n",
    "import tensorflow as tf\n",
    "\n",
    "start = 0 \n",
    "middle = 5000\n",
    "end = 5556\n",
    "X_train = X[0:middle].reshape(X[0:middle].shape[0], 50, 50,1)\n",
    "y_train = tf.keras.utils.to_categorical(y[0:middle], 21)\n",
    "\n",
    "\n",
    "X_val = X[middle:end].reshape(X[middle:end].shape[0], 50, 50, 1)\n",
    "y_val = tf.keras.utils.to_categorical(y[middle:end], 21)\n",
    "\n",
    "\n",
    "from matplotlib import pyplot as plt\n",
    "%matplotlib inline\n",
    "\n",
    "print('Training data shape', X_train.shape)\n",
    "_, (ax1, ax2) = plt.subplots(1, 2)\n",
    "ax1.imshow(X_train[0].reshape(50,50), cmap=plt.cm.Greys);\n",
    "ax2.imshow(X_train[5].reshape(50,50), cmap=plt.cm.Greys);\n",
    "\n",
    "\n",
    "# Build your DNN, an example model is given for you.\n",
    "model = tf.keras.Sequential([\n",
    "    tf.keras.layers.Conv2D(50, (5,5), padding='same', activation='relu', input_shape=(50, 50,1)),\n",
    "    tf.keras.layers.MaxPool2D(padding='same'),\n",
    "    \n",
    "    tf.keras.layers.Conv2D(100, (5,5), padding='same', activation='relu'),\n",
    "    tf.keras.layers.MaxPool2D(padding='same'),\n",
    "\n",
    "    tf.keras.layers.Conv2D(200, (5,5), padding='same', activation='relu'),\n",
    "    tf.keras.layers.MaxPool2D(padding='same'),\n",
    "    \n",
    "    tf.keras.layers.Conv2D(200, (5,5), padding='same', activation='relu'),\n",
    "    tf.keras.layers.Conv2D(200, (5,5), padding='same', activation='relu'),\n",
    "    tf.keras.layers.MaxPool2D(padding='same'),\n",
    "\n",
    "    tf.keras.layers.Conv2D(400, (5,5), padding='same', activation='relu'),\n",
    "    tf.keras.layers.Conv2D(400, (5,5), padding='same', activation='relu'),\n",
    "    tf.keras.layers.MaxPool2D(padding='same'),\n",
    "\n",
    "    tf.keras.layers.Conv2D(200, (5,5), padding='same', activation='relu'),\n",
    "    tf.keras.layers.Conv2D(200, (5,5), padding='same', activation='relu'),\n",
    "    tf.keras.layers.MaxPool2D(padding='same'),\n",
    "\n",
    "    tf.keras.layers.Flatten(),\n",
    "    tf.keras.layers.Dense(400, activation='relu'),\n",
    "    tf.keras.layers.Dense(400, activation='relu'),\n",
    "    tf.keras.layers.Dense(21, activation='softmax')\n",
    "])\n",
    "\n",
    "model.compile(optimizer=tf.train.AdamOptimizer(0.0001),\n",
    "              loss='categorical_crossentropy',\n",
    "              metrics=['accuracy'])\n",
    "\n",
    "model.summary()\n"
   ]
  },
  {
   "cell_type": "code",
   "execution_count": 16,
   "metadata": {},
   "outputs": [
    {
     "name": "stdout",
     "output_type": "stream",
     "text": [
      "Train on 5000 samples, validate on 556 samples\n",
      "WARNING:tensorflow:From /home/dharun/anaconda/ENTER/envs/torchenv/lib/python3.7/site-packages/tensorflow/python/ops/math_ops.py:3066: to_int32 (from tensorflow.python.ops.math_ops) is deprecated and will be removed in a future version.\n",
      "Instructions for updating:\n",
      "Use tf.cast instead.\n",
      "Epoch 1/10\n",
      "5000/5000 [==============================] - 51s 10ms/sample - loss: 2.2712 - acc: 0.2766 - val_loss: 1.4056 - val_acc: 0.5090\n",
      "Epoch 2/10\n",
      "5000/5000 [==============================] - 47s 9ms/sample - loss: 0.9878 - acc: 0.6424 - val_loss: 0.9581 - val_acc: 0.6673\n",
      "Epoch 3/10\n",
      "5000/5000 [==============================] - 48s 10ms/sample - loss: 0.6455 - acc: 0.7590 - val_loss: 0.6037 - val_acc: 0.7770\n",
      "Epoch 4/10\n",
      "5000/5000 [==============================] - 47s 9ms/sample - loss: 0.5080 - acc: 0.8054 - val_loss: 0.4228 - val_acc: 0.8309\n",
      "Epoch 5/10\n",
      "5000/5000 [==============================] - 47s 9ms/sample - loss: 0.4189 - acc: 0.8400 - val_loss: 0.5052 - val_acc: 0.8112\n",
      "Epoch 6/10\n",
      "5000/5000 [==============================] - 47s 9ms/sample - loss: 0.3356 - acc: 0.8728 - val_loss: 0.3808 - val_acc: 0.8543\n",
      "Epoch 7/10\n",
      "5000/5000 [==============================] - 47s 9ms/sample - loss: 0.3122 - acc: 0.8832 - val_loss: 0.3474 - val_acc: 0.8957\n",
      "Epoch 8/10\n",
      "5000/5000 [==============================] - 47s 9ms/sample - loss: 0.2833 - acc: 0.8928 - val_loss: 0.4141 - val_acc: 0.8327\n",
      "Epoch 9/10\n",
      "5000/5000 [==============================] - 47s 9ms/sample - loss: 0.2437 - acc: 0.9058 - val_loss: 0.3587 - val_acc: 0.8507\n",
      "Epoch 10/10\n",
      "5000/5000 [==============================] - 47s 9ms/sample - loss: 0.2402 - acc: 0.9126 - val_loss: 0.2482 - val_acc: 0.9119\n"
     ]
    }
   ],
   "source": [
    "hist1 = model.fit(X_train, y_train,\n",
    "          batch_size=50,\n",
    "          epochs=10,\n",
    "          verbose=1,\n",
    "          validation_data=(X_val, y_val))"
   ]
  },
  {
   "cell_type": "code",
   "execution_count": 17,
   "metadata": {},
   "outputs": [],
   "source": [
    "predictions = model.predict(X_val.reshape(X_val.shape[0], 50, 50,1))"
   ]
  },
  {
   "cell_type": "code",
   "execution_count": 18,
   "metadata": {},
   "outputs": [],
   "source": [
    "from sklearn.metrics import confusion_matrix\n",
    "matrix = confusion_matrix(y_val.argmax(axis=1), predictions.argmax(axis=1))"
   ]
  },
  {
   "cell_type": "code",
   "execution_count": 19,
   "metadata": {},
   "outputs": [
    {
     "data": {
      "text/plain": [
       "array([[18,  0,  0,  0,  0,  0,  0,  0,  0,  0,  0,  0,  0,  0,  0,  0,\n",
       "         0,  0,  0,  5,  0],\n",
       "       [ 0, 43,  0,  0,  0,  0,  0,  0,  2,  0,  0,  0,  1,  0,  0,  0,\n",
       "         0,  0,  0,  0,  0],\n",
       "       [ 0,  0, 12,  0,  0,  0,  0,  0,  0,  0,  0,  0,  0,  0,  0,  0,\n",
       "         0,  0,  0,  0,  0],\n",
       "       [ 0,  0,  0, 16,  0,  0,  0,  0,  0,  0,  0,  0,  0,  0,  0,  0,\n",
       "         0,  0,  0,  0,  0],\n",
       "       [ 0,  0,  0,  0, 14,  0,  1,  1,  0,  0,  0,  0,  0,  0,  0,  0,\n",
       "         0,  1,  0,  0,  0],\n",
       "       [ 0,  0,  0,  0,  1, 15,  0,  0,  0,  0,  0,  0,  0,  0,  0,  3,\n",
       "         0,  0,  0,  0,  0],\n",
       "       [ 0,  0,  0,  0,  0,  0, 18,  0,  0,  0,  0,  0,  0,  0,  0,  0,\n",
       "         0,  0,  0,  0,  0],\n",
       "       [ 0,  0,  0,  0,  0,  0,  1, 41,  0,  1,  4,  0,  0,  0,  0,  0,\n",
       "         0,  0,  0,  0,  0],\n",
       "       [ 0,  0,  0,  0,  0,  0,  0,  0, 36,  0,  0,  0,  0,  0,  0,  0,\n",
       "         0,  0,  0,  0,  0],\n",
       "       [ 0,  0,  0,  0,  0,  0,  0,  0,  0, 41,  0,  0,  0,  0,  0,  0,\n",
       "         0,  0,  0,  0,  0],\n",
       "       [ 0,  0,  0,  0,  0,  0,  0,  0,  0,  0, 18,  0,  0,  0,  0,  0,\n",
       "         0,  0,  0,  0,  0],\n",
       "       [ 0,  0,  0,  0,  0,  0,  0,  0,  0,  0,  0, 19,  2,  0,  0,  0,\n",
       "         0,  0,  0,  0,  0],\n",
       "       [ 0,  0,  0,  0,  0,  0,  0,  0,  0,  0,  0,  3, 12,  0,  0,  0,\n",
       "         0,  0,  0,  0,  0],\n",
       "       [ 0,  2,  0,  0,  0,  0,  0,  0,  0,  0,  0,  0,  0, 18,  0,  0,\n",
       "         0,  0,  0,  0,  0],\n",
       "       [ 0,  0,  0,  0,  0,  0,  0,  0,  0,  0,  0,  0,  0,  0, 29,  0,\n",
       "         0,  0,  0,  0,  0],\n",
       "       [ 0,  0,  0,  0,  0,  0,  0,  0,  0,  0,  0,  0,  0,  0,  0, 23,\n",
       "         0,  1,  0,  0,  0],\n",
       "       [ 0,  1,  0,  0,  0,  0,  0,  0,  0,  0,  0,  3,  2,  0,  0,  0,\n",
       "        20,  0,  0,  2,  0],\n",
       "       [ 0,  0,  0,  0,  0,  0,  0,  0,  0,  0,  0,  0,  0,  0,  0,  0,\n",
       "         0, 20,  0,  0,  0],\n",
       "       [ 0,  0,  0,  0,  0,  0,  0,  0,  0,  0,  0,  0,  0,  0,  0,  0,\n",
       "         0,  0, 34,  0,  0],\n",
       "       [ 0,  1,  0,  0,  0,  0,  0,  0,  0,  0,  0,  0,  9,  0,  0,  0,\n",
       "         0,  0,  0, 23,  0],\n",
       "       [ 0,  0,  1,  0,  0,  0,  0,  0,  0,  0,  0,  0,  0,  0,  0,  0,\n",
       "         0,  0,  1,  0, 37]])"
      ]
     },
     "execution_count": 19,
     "metadata": {},
     "output_type": "execute_result"
    }
   ],
   "source": [
    "matrix"
   ]
  },
  {
   "cell_type": "code",
   "execution_count": null,
   "metadata": {},
   "outputs": [],
   "source": [
    "textlist = ['apple','ball','banana','bowl','calculator','cell','flashlight','food','garlic','instant','kleenex','lemon','lime','orange','plate','pliers' in str(image):\n",
    "        \n",
    "        if 'potato' in str(image):\n",
    "            \n",
    "        if 'scissors' in str(image):\n",
    "        \n",
    "        if 'shampoo' in str(image):\n",
    "        \n",
    "        if 'tomato' in str(image):\n",
    "        \n",
    "        if 'water' in str(image):\n"
   ]
  },
  {
   "cell_type": "code",
   "execution_count": 20,
   "metadata": {},
   "outputs": [
    {
     "data": {
      "text/plain": [
       "<matplotlib.axes._subplots.AxesSubplot at 0x7fd7b7672b00>"
      ]
     },
     "execution_count": 20,
     "metadata": {},
     "output_type": "execute_result"
    },
    {
     "data": {
      "image/png": "[encoded data removed]",
      "text/plain": [
       "<Figure size 720x504 with 2 Axes>"
      ]
     },
     "metadata": {
      "needs_background": "light"
     },
     "output_type": "display_data"
    }
   ],
   "source": [
    "import seaborn as sn\n",
    "import pandas as pd\n",
    "import matplotlib.pyplot as plt\n",
    "\n",
    "df_cm = pd.DataFrame(matrix, index = [i for i in range(21)],\n",
    "                  columns = [i for i in range(21)])\n",
    "plt.figure(figsize = (10,7))\n",
    "sn.heatmap(df_cm, annot=True)"
   ]
  },
  {
   "cell_type": "code",
   "execution_count": null,
   "metadata": {},
   "outputs": [],
   "source": []
  }
 ],
 "metadata": {
  "kernelspec": {
   "display_name": "Python 3",
   "language": "python",
   "name": "python3"
  },
  "language_info": {
   "codemirror_mode": {
    "name": "ipython",
    "version": 3
   },
   "file_extension": ".py",
   "mimetype": "text/x-python",
   "name": "python",
   "nbconvert_exporter": "python",
   "pygments_lexer": "ipython3",
   "version": "3.7.3"
  }
 },
 "nbformat": 4,
 "nbformat_minor": 2
}
