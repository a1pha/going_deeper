{
 "cells": [
  {
   "cell_type": "code",
   "execution_count": 40,
   "metadata": {},
   "outputs": [],
   "source": [
    "import cv2\n",
    "from numpy import array\n",
    "\n",
    "def read_and_process_images(list_of_images):\n",
    "    X = []\n",
    "    y = []\n",
    "    \n",
    "    for image in list_of_images:\n",
    "        X.append(cv2.resize(cv2.imread(\"data21class/\" + str(image), cv2.IMREAD_GRAYSCALE), (50,50), interpolation = cv2.INTER_CUBIC))\n",
    "        \n",
    "        if 'apple' in str(image):\n",
    "            y.append(0)\n",
    "        \n",
    "        if 'ball' in str(image):\n",
    "            y.append(1)\n",
    "    \n",
    "        if 'banana' in str(image):\n",
    "            y.append(2)\n",
    "        \n",
    "        if 'bowl' in str(image):\n",
    "            y.append(3)\n",
    "            \n",
    "        if 'calculator' in str(image):\n",
    "            y.append(4)\n",
    "        \n",
    "        if 'cell' in str(image):\n",
    "            y.append(5)\n",
    "        \n",
    "        if 'flashlight' in str(image):\n",
    "            y.append(6)\n",
    "        \n",
    "        if 'food' in str(image):\n",
    "            y.append(7)\n",
    "        \n",
    "        if 'garlic' in str(image):\n",
    "            y.append(8)\n",
    "            \n",
    "        if 'instant' in str(image):\n",
    "            y.append(9)\n",
    "            \n",
    "        if 'kleenex' in str(image):\n",
    "            y.append(10)\n",
    "            \n",
    "        if 'lemon' in str(image):\n",
    "            y.append(11)\n",
    "    \n",
    "        if 'lime' in str(image):\n",
    "            y.append(12)\n",
    "        \n",
    "        if 'orange' in str(image):\n",
    "            y.append(13)\n",
    "        \n",
    "        if 'plate' in str(image):\n",
    "            y.append(14)\n",
    "        \n",
    "        if 'pliers' in str(image):\n",
    "            y.append(15)\n",
    "        \n",
    "        if 'potato' in str(image):\n",
    "            y.append(16)\n",
    "            \n",
    "        if 'scissors' in str(image):\n",
    "            y.append(17)\n",
    "        \n",
    "        if 'shampoo' in str(image):\n",
    "            y.append(18)\n",
    "        \n",
    "        if 'tomato' in str(image):\n",
    "            y.append(19)\n",
    "        \n",
    "        if 'water' in str(image):\n",
    "            y.append(20)\n",
    "        \n",
    "    return array(X),array(y)"
   ]
  },
  {
   "cell_type": "code",
   "execution_count": 41,
   "metadata": {},
   "outputs": [],
   "source": [
    "file_names=[]\n"
   ]
  },
  {
   "cell_type": "code",
   "execution_count": 42,
   "metadata": {},
   "outputs": [],
   "source": [
    "import os\n",
    "dirListing = os.listdir(\"data21class\")\n",
    "for filename in dirListing:\n",
    "    file_names.append(str(filename))"
   ]
  },
  {
   "cell_type": "code",
   "execution_count": 43,
   "metadata": {},
   "outputs": [
    {
     "data": {
      "text/plain": [
       "5556"
      ]
     },
     "execution_count": 43,
     "metadata": {},
     "output_type": "execute_result"
    }
   ],
   "source": [
    "len(file_names)\n"
   ]
  },
  {
   "cell_type": "code",
   "execution_count": 44,
   "metadata": {},
   "outputs": [],
   "source": [
    "X, y = read_and_process_images(file_names)\n"
   ]
  },
  {
   "cell_type": "code",
   "execution_count": 45,
   "metadata": {},
   "outputs": [
    {
     "data": {
      "text/plain": [
       "(50, 50)"
      ]
     },
     "execution_count": 45,
     "metadata": {},
     "output_type": "execute_result"
    }
   ],
   "source": [
    "X[0].shape\n"
   ]
  },
  {
   "cell_type": "code",
   "execution_count": 47,
   "metadata": {},
   "outputs": [
    {
     "name": "stdout",
     "output_type": "stream",
     "text": [
      "Training data shape (5000, 50, 50, 1)\n",
      "_________________________________________________________________\n",
      "Layer (type)                 Output Shape              Param #   \n",
      "=================================================================\n",
      "conv2d_36 (Conv2D)           (None, 50, 50, 50)        1300      \n",
      "_________________________________________________________________\n",
      "max_pooling2d_24 (MaxPooling (None, 25, 25, 50)        0         \n",
      "_________________________________________________________________\n",
      "conv2d_37 (Conv2D)           (None, 25, 25, 100)       125100    \n",
      "_________________________________________________________________\n",
      "max_pooling2d_25 (MaxPooling (None, 13, 13, 100)       0         \n",
      "_________________________________________________________________\n",
      "conv2d_38 (Conv2D)           (None, 13, 13, 200)       500200    \n",
      "_________________________________________________________________\n",
      "max_pooling2d_26 (MaxPooling (None, 7, 7, 200)         0         \n",
      "_________________________________________________________________\n",
      "conv2d_39 (Conv2D)           (None, 7, 7, 200)         1000200   \n",
      "_________________________________________________________________\n",
      "conv2d_40 (Conv2D)           (None, 7, 7, 200)         1000200   \n",
      "_________________________________________________________________\n",
      "max_pooling2d_27 (MaxPooling (None, 4, 4, 200)         0         \n",
      "_________________________________________________________________\n",
      "conv2d_41 (Conv2D)           (None, 4, 4, 400)         2000400   \n",
      "_________________________________________________________________\n",
      "conv2d_42 (Conv2D)           (None, 4, 4, 400)         4000400   \n",
      "_________________________________________________________________\n",
      "max_pooling2d_28 (MaxPooling (None, 2, 2, 400)         0         \n",
      "_________________________________________________________________\n",
      "conv2d_43 (Conv2D)           (None, 2, 2, 200)         2000200   \n",
      "_________________________________________________________________\n",
      "conv2d_44 (Conv2D)           (None, 2, 2, 200)         1000200   \n",
      "_________________________________________________________________\n",
      "max_pooling2d_29 (MaxPooling (None, 1, 1, 200)         0         \n",
      "_________________________________________________________________\n",
      "flatten_4 (Flatten)          (None, 200)               0         \n",
      "_________________________________________________________________\n",
      "dense_12 (Dense)             (None, 400)               80400     \n",
      "_________________________________________________________________\n",
      "dense_13 (Dense)             (None, 400)               160400    \n",
      "_________________________________________________________________\n",
      "dense_14 (Dense)             (None, 21)                8421      \n",
      "=================================================================\n",
      "Total params: 11,877,421\n",
      "Trainable params: 11,877,421\n",
      "Non-trainable params: 0\n",
      "_________________________________________________________________\n"
     ]
    },
    {
     "data": {
      "image/png": "[encoded data removed]",
      "text/plain": [
       "<Figure size 432x288 with 2 Axes>"
      ]
     },
     "metadata": {
      "needs_background": "light"
     },
     "output_type": "display_data"
    }
   ],
   "source": [
    "# Download and visualize the data: see all here https://www.tensorflow.org/api_docs/python/tf/keras/datasets\n",
    "import tensorflow as tf\n",
    "\n",
    "start = 0 \n",
    "middle = 5000\n",
    "end = 5556\n",
    "X_train = X[0:middle].reshape(X[0:middle].shape[0], 50,50,1)\n",
    "y_train = tf.keras.utils.to_categorical(y[0:middle], 21)\n",
    "\n",
    "\n",
    "X_val = X[middle:end].reshape(X[middle:end].shape[0], 50,50, 1)\n",
    "y_val = tf.keras.utils.to_categorical(y[middle:end], 21)\n",
    "\n",
    "\n",
    "from matplotlib import pyplot as plt\n",
    "%matplotlib inline\n",
    "\n",
    "print('Training data shape', X_train.shape)\n",
    "_, (ax1, ax2) = plt.subplots(1, 2)\n",
    "ax1.imshow(X_train[0].reshape(50,50), cmap=plt.cm.Greys);\n",
    "ax2.imshow(X_train[5].reshape(50,50), cmap=plt.cm.Greys);\n",
    "\n",
    "\n",
    "# Build your DNN, an example model is given for you.\n",
    "model = tf.keras.Sequential([\n",
    "    tf.keras.layers.Conv2D(50, (5,5), padding='same', activation='relu', input_shape=(50,50,1)),\n",
    "    tf.keras.layers.MaxPool2D(padding='same'),\n",
    "    \n",
    "    tf.keras.layers.Conv2D(100, (5,5), padding='same', activation='relu'),\n",
    "    tf.keras.layers.MaxPool2D(padding='same'),\n",
    "\n",
    "    tf.keras.layers.Conv2D(200, (5,5), padding='same', activation='relu'),\n",
    "    tf.keras.layers.MaxPool2D(padding='same'),\n",
    "    \n",
    "    tf.keras.layers.Conv2D(200, (5,5), padding='same', activation='relu'),\n",
    "    tf.keras.layers.Conv2D(200, (5,5), padding='same', activation='relu'),\n",
    "    tf.keras.layers.MaxPool2D(padding='same'),\n",
    "\n",
    "    tf.keras.layers.Conv2D(400, (5,5), padding='same', activation='relu'),\n",
    "    tf.keras.layers.Conv2D(400, (5,5), padding='same', activation='relu'),\n",
    "    tf.keras.layers.MaxPool2D(padding='same'),\n",
    "\n",
    "    tf.keras.layers.Conv2D(200, (5,5), padding='same', activation='relu'),\n",
    "    tf.keras.layers.Conv2D(200, (5,5), padding='same', activation='relu'),\n",
    "    tf.keras.layers.MaxPool2D(padding='same'),\n",
    "\n",
    "    tf.keras.layers.Flatten(),\n",
    "    tf.keras.layers.Dense(400, activation='relu'),\n",
    "    tf.keras.layers.Dense(400, activation='relu'),\n",
    "    tf.keras.layers.Dense(21, activation='softmax')\n",
    "])\n",
    "\n",
    "model.compile(optimizer=tf.train.AdamOptimizer(0.0001),\n",
    "              loss='categorical_crossentropy',\n",
    "              metrics=['accuracy'])\n",
    "\n",
    "model.summary()\n"
   ]
  },
  {
   "cell_type": "code",
   "execution_count": 57,
   "metadata": {},
   "outputs": [],
   "source": [
    "import numpy as np\n",
    "\n",
    "def replaceRandom(temp, num):\n",
    "    shape = temp.shape       \n",
    "    temp = temp.flatten() \n",
    "    vval = np.max(temp)\n",
    "    inds = np.random.choice(temp.size, size=num)   \n",
    "    temp[inds] = np.full(num, vval)        \n",
    "    temp = temp.reshape(shape)                     \n",
    "    return temp\n",
    "    \n",
    "\n",
    "X_train = replaceRandom(X_train,1000)\n",
    "\n",
    "X_val = replaceRandom(X_val,100)"
   ]
  },
  {
   "cell_type": "code",
   "execution_count": 58,
   "metadata": {
    "scrolled": true
   },
   "outputs": [
    {
     "name": "stdout",
     "output_type": "stream",
     "text": [
      "Train on 5000 samples, validate on 556 samples\n",
      "Epoch 1/10\n",
      "5000/5000 [==============================] - 51s 10ms/sample - loss: 0.2253 - acc: 0.9160 - val_loss: 0.2626 - val_acc: 0.8939\n",
      "Epoch 2/10\n",
      "5000/5000 [==============================] - 49s 10ms/sample - loss: 0.1993 - acc: 0.9274 - val_loss: 0.4141 - val_acc: 0.8777\n",
      "Epoch 3/10\n",
      "5000/5000 [==============================] - 49s 10ms/sample - loss: 0.1877 - acc: 0.9326 - val_loss: 0.3146 - val_acc: 0.8903\n",
      "Epoch 4/10\n",
      "5000/5000 [==============================] - 49s 10ms/sample - loss: 0.1691 - acc: 0.9344 - val_loss: 0.3513 - val_acc: 0.8903\n",
      "Epoch 5/10\n",
      "5000/5000 [==============================] - 49s 10ms/sample - loss: 0.1896 - acc: 0.9300 - val_loss: 0.3181 - val_acc: 0.8993\n",
      "Epoch 6/10\n",
      "5000/5000 [==============================] - 50s 10ms/sample - loss: 0.1395 - acc: 0.9486 - val_loss: 0.2248 - val_acc: 0.9245\n",
      "Epoch 7/10\n",
      "5000/5000 [==============================] - 50s 10ms/sample - loss: 0.1203 - acc: 0.9542 - val_loss: 0.3441 - val_acc: 0.8957\n",
      "Epoch 8/10\n",
      "5000/5000 [==============================] - 50s 10ms/sample - loss: 0.1195 - acc: 0.9584 - val_loss: 0.3473 - val_acc: 0.9011\n",
      "Epoch 9/10\n",
      "5000/5000 [==============================] - 49s 10ms/sample - loss: 0.1723 - acc: 0.9386 - val_loss: 0.2311 - val_acc: 0.9155\n",
      "Epoch 10/10\n",
      "5000/5000 [==============================] - 49s 10ms/sample - loss: 0.1039 - acc: 0.9658 - val_loss: 0.2156 - val_acc: 0.9406\n"
     ]
    }
   ],
   "source": [
    "hist1 = model.fit(X_train, y_train,\n",
    "          batch_size=50,\n",
    "          epochs=10,\n",
    "          verbose=1,\n",
    "          validation_data=(X_val, y_val))"
   ]
  },
  {
   "cell_type": "code",
   "execution_count": null,
   "metadata": {},
   "outputs": [],
   "source": [
    "predictions = model.predict(X_val.reshape(X_val.shape[0], 50, 50,1))"
   ]
  },
  {
   "cell_type": "code",
   "execution_count": null,
   "metadata": {},
   "outputs": [],
   "source": [
    "from sklearn.metrics import confusion_matrix\n",
    "matrix = confusion_matrix(y_val.argmax(axis=1), predictions.argmax(axis=1))"
   ]
  },
  {
   "cell_type": "code",
   "execution_count": 39,
   "metadata": {},
   "outputs": [
    {
     "data": {
      "text/plain": [
       "Text(0, 0.5, 'Test accuracy')"
      ]
     },
     "execution_count": 39,
     "metadata": {},
     "output_type": "execute_result"
    },
    {
     "data": {
      "image/png": "[encoded data removed]",
      "text/plain": [
       "<Figure size 432x288 with 1 Axes>"
      ]
     },
     "metadata": {
      "needs_background": "light"
     },
     "output_type": "display_data"
    }
   ],
   "source": [
    "import matplotlib.pyplot as plt\n",
    "dims = [15,30,50]\n",
    "traind = [0.44,0.83,0.91]\n",
    "testd = [0.45, 0.79, 0.91]\n",
    "plt.plot(dims,testd)\n",
    "plt.title(\"Test accuracy as a function of image dimension\")\n",
    "plt.xlabel(\"Image dimension\")\n",
    "plt.ylabel(\"Test accuracy\")"
   ]
  },
  {
   "cell_type": "code",
   "execution_count": null,
   "metadata": {},
   "outputs": [],
   "source": [
    "textlist = ['apple','ball','banana','bowl','calculator','cell','flashlight','food','garlic','instant','kleenex','lemon','lime','orange','plate','pliers','potato','scissors','shampoo','tomato','water']\n"
   ]
  },
  {
   "cell_type": "code",
   "execution_count": null,
   "metadata": {},
   "outputs": [],
   "source": [
    "import seaborn as sn\n",
    "import pandas as pd\n",
    "import matplotlib.pyplot as plt\n",
    "\n",
    "df_cm = pd.DataFrame(matrix, index = [i for i in textlist],\n",
    "                  columns = [i for i in textlist])\n",
    "fig = plt.figure(figsize = (10,7))\n",
    "sn.heatmap(df_cm, annot=True)\n",
    "fig.savefig('confusion_212.png', dpi=1200)"
   ]
  },
  {
   "cell_type": "markdown",
   "metadata": {},
   "source": [
    "# Training accuracy 91.26%\n",
    "# Test accuracy 91.19%"
   ]
  },
  {
   "cell_type": "code",
   "execution_count": null,
   "metadata": {},
   "outputs": [],
   "source": [
    "_, (ax1, ax2) = plt.subplots(1, 2)\n",
    "ax1.imshow(X_train[5].reshape(50,50), cmap=plt.cm.Greys);\n",
    "ax2.imshow(X_train[9].reshape(50,50), cmap=plt.cm.Greys);\n"
   ]
  },
  {
   "cell_type": "code",
   "execution_count": null,
   "metadata": {},
   "outputs": [],
   "source": [
    "textlist = ['potato', 'scissors', 'shampoo', 'tomato', 'water']"
   ]
  },
  {
   "cell_type": "code",
   "execution_count": null,
   "metadata": {},
   "outputs": [],
   "source": [
    "matrix = [[29,  0,  0,  0,  0],\n",
    "       [ 0, 23,  0,  0,  0],\n",
    "       [ 0,  0, 61,  0,  0],\n",
    "       [ 0,  0,  0, 39,  1],\n",
    "       [ 0,  0,  0,  0, 66]]\n",
    "import seaborn as sn\n",
    "import pandas as pd\n",
    "import matplotlib.pyplot as plt\n",
    "\n",
    "df_cm = pd.DataFrame(matrix, index = [i for i in textlist],\n",
    "                  columns = [i for i in textlist])\n",
    "fig = plt.figure(figsize = (10,7))\n",
    "sn.heatmap(df_cm, annot=True)\n",
    "fig.savefig('confusion_21.png', dpi=1200)"
   ]
  },
  {
   "cell_type": "code",
   "execution_count": null,
   "metadata": {},
   "outputs": [],
   "source": []
  }
 ],
 "metadata": {
  "kernelspec": {
   "display_name": "Python 3",
   "language": "python",
   "name": "python3"
  },
  "language_info": {
   "codemirror_mode": {
    "name": "ipython",
    "version": 3
   },
   "file_extension": ".py",
   "mimetype": "text/x-python",
   "name": "python",
   "nbconvert_exporter": "python",
   "pygments_lexer": "ipython3",
   "version": "3.7.3"
  }
 },
 "nbformat": 4,
 "nbformat_minor": 2
}
